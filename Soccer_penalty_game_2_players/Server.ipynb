{
 "cells": [
  {
   "cell_type": "code",
   "execution_count": 7,
   "id": "fc2af1a1",
   "metadata": {},
   "outputs": [],
   "source": [
    "import socket\n",
    "import random\n",
    "local_host = '172.30.49.217' # Replace 'localhost' with your IP address， port is 65521"
   ]
  },
  {
   "cell_type": "code",
   "execution_count": 8,
   "id": "4c753af2",
   "metadata": {},
   "outputs": [],
   "source": [
    "def soccer_panalty_game(player_action, opponent_action):\n",
    "    if player_action == 'left':\n",
    "        m = 0\n",
    "    else:\n",
    "        m = 2\n",
    "    \n",
    "    if opponent_action == 'left':\n",
    "        n = 0\n",
    "    else:\n",
    "        n = 1\n",
    "    matrix = [0.58,0.95,0.93,0.70]\n",
    "    random_number = random.random()\n",
    "    if matrix[m+n] > random_number:\n",
    "        return \"Goal scored!\"\n",
    "    else:\n",
    "        return \"Goalie saves the shot!\"        "
   ]
  },
  {
   "cell_type": "code",
   "execution_count": 9,
   "id": "67846938",
   "metadata": {},
   "outputs": [
    {
     "name": "stdout",
     "output_type": "stream",
     "text": [
      "Waiting for a connection...\n",
      "Connected to: ('172.30.49.217', 52411)\n",
      "You are the goalie\n",
      "Enter your move (left or right) or 'quit' to end the game: quit\n",
      "You ended the game.\n"
     ]
    }
   ],
   "source": [
    "server_socket = socket.socket(socket.AF_INET, socket.SOCK_STREAM)\n",
    "server_socket.bind((local_host, 65521)) \n",
    "server_socket.listen(1)\n",
    "\n",
    "server_socket.settimeout(10.0)  # Set a timeout of 10 seconds\n",
    "\n",
    "print('Waiting for a connection...')\n",
    "try:\n",
    "    client_socket, client_address = server_socket.accept()\n",
    "except socket.timeout:\n",
    "    print('Connection request timed out.')\n",
    "else:\n",
    "    print('Connected to:', client_address)\n",
    "\n",
    "    while True:\n",
    "        # Randomly assign roles each game\n",
    "        roles = ['goalie', 'player']\n",
    "        random.shuffle(roles)\n",
    "        server_role, client_role = roles\n",
    "        client_socket.sendall(client_role.encode())\n",
    "        print('You are the', server_role)\n",
    "        client_action = client_socket.recv(1024).decode()\n",
    "        if not client_action or client_action == 'quit':\n",
    "            print('Client ended the game.' if client_action == 'quit' else '')\n",
    "            break\n",
    "        server_action = input(\"Enter your move (left or right) or 'quit' to end the game: \")\n",
    "        if server_action == 'quit':\n",
    "            print(\"You ended the game.\")\n",
    "            client_socket.sendall('quit'.encode())\n",
    "            break\n",
    "        server_action = input(\"Enter your move (left or right): \")\n",
    "        result = soccer_panalty_game(server_action, client_action) if server_role == 'goalie' else soccer_panalty_game(client_action, server_action)\n",
    "        message = f'Player chose {client_action}. Goalie chose {server_action}. {result}. As the {server_role}, you {\"win\" if \"Goal scored\" in result and server_role==\"player\" or \"Goalie saves the shot\" in result and server_role==\"goalie\" else \"lose\"}.'\n",
    "        message_client = f'Player chose {client_action}. Goalie chose {server_action}. {result}. As the {client_role}, you {\"lose\" if \"Goal scored\" in result and server_role==\"player\" or \"Goalie saves the shot\" in result and server_role==\"goalie\" else \"win\"}.'\n",
    "        print(message)\n",
    "        client_socket.sendall(message_client.encode())\n",
    "        \n",
    "    client_socket.close()"
   ]
  },
  {
   "cell_type": "code",
   "execution_count": null,
   "id": "60ef5539",
   "metadata": {},
   "outputs": [],
   "source": []
  }
 ],
 "metadata": {
  "kernelspec": {
   "display_name": "Python 3 (ipykernel)",
   "language": "python",
   "name": "python3"
  },
  "language_info": {
   "codemirror_mode": {
    "name": "ipython",
    "version": 3
   },
   "file_extension": ".py",
   "mimetype": "text/x-python",
   "name": "python",
   "nbconvert_exporter": "python",
   "pygments_lexer": "ipython3",
   "version": "3.9.13"
  }
 },
 "nbformat": 4,
 "nbformat_minor": 5
}
