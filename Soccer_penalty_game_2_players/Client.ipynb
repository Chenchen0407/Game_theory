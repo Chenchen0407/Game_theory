{
 "cells": [
  {
   "cell_type": "code",
   "execution_count": 7,
   "id": "e78eb00a",
   "metadata": {},
   "outputs": [],
   "source": [
    "import socket\n",
    "local_host = '172.30.49.217' # Replace 'localhost' with your IP address， port is 65521"
   ]
  },
  {
   "cell_type": "code",
   "execution_count": 8,
   "id": "059706d9",
   "metadata": {},
   "outputs": [
    {
     "name": "stdout",
     "output_type": "stream",
     "text": [
      "You are the player\n",
      "Enter your move (left or right) or 'quit' to end the game: right\n",
      "quit\n",
      "\n"
     ]
    }
   ],
   "source": [
    "client_socket = socket.socket(socket.AF_INET, socket.SOCK_STREAM)\n",
    "# replace 'localhost' with server's IP address\n",
    "client_socket.connect((local_host, 65521)) \n",
    "\n",
    "while True:\n",
    "    client_role = client_socket.recv(1024).decode()  # Receive role from server\n",
    "    if not client_role or client_role == 'quit':\n",
    "        print('Server ended the game.' if client_role == 'quit' else '')\n",
    "        break\n",
    "    print('You are the', client_role)\n",
    "\n",
    "    client_action = input(\"Enter your move (left or right) or 'quit' to end the game: \")\n",
    "    if client_action == 'quit':\n",
    "        print(\"You ended the game.\")\n",
    "        client_socket.sendall('quit'.encode())\n",
    "        break\n",
    "    if client_action not in ['left', 'right']:\n",
    "        print(\"Invalid move. Please enter either 'left' or 'right'.\")\n",
    "        continue\n",
    "    client_socket.sendall(client_action.encode())\n",
    "    server_response = client_socket.recv(1024).decode()\n",
    "    print(server_response)\n",
    "\n",
    "client_socket.close()"
   ]
  },
  {
   "cell_type": "code",
   "execution_count": null,
   "id": "45452238",
   "metadata": {},
   "outputs": [],
   "source": []
  }
 ],
 "metadata": {
  "kernelspec": {
   "display_name": "Python 3 (ipykernel)",
   "language": "python",
   "name": "python3"
  },
  "language_info": {
   "codemirror_mode": {
    "name": "ipython",
    "version": 3
   },
   "file_extension": ".py",
   "mimetype": "text/x-python",
   "name": "python",
   "nbconvert_exporter": "python",
   "pygments_lexer": "ipython3",
   "version": "3.9.13"
  }
 },
 "nbformat": 4,
 "nbformat_minor": 5
}
