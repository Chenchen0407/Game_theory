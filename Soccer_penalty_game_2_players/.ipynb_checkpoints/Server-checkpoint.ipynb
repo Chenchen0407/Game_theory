{
 "cells": [
  {
   "cell_type": "code",
   "execution_count": 1,
   "id": "3af66519",
   "metadata": {},
   "outputs": [],
   "source": [
    "import socket"
   ]
  },
  {
   "cell_type": "code",
   "execution_count": null,
   "id": "b0d8ca84",
   "metadata": {},
   "outputs": [],
   "source": [
    "def soccer_panalty_game(player_action, opponent_action):\n",
    "    if player_action == opponent_action:\n",
    "        return \"Goalie saves the shot!\"\n",
    "    else:\n",
    "        return \"Goal scored!\""
   ]
  },
  {
   "cell_type": "code",
   "execution_count": 4,
   "id": "d0bd05f8",
   "metadata": {},
   "outputs": [
    {
     "name": "stdout",
     "output_type": "stream",
     "text": [
      "Waiting for a connection...\n",
      "Connection request timed out.\n"
     ]
    }
   ],
   "source": [
    "server_socket = socket.socket(socket.AF_INET, socket.SOCK_STREAM)\n",
    "# Replace 'localhost' with your IP address， port is 65521\n",
    "server_socket.bind(('172.30.49.217', 65521)) \n",
    "server_socket.listen(1)\n",
    "\n",
    "server_socket.settimeout(10.0)  # Set a timeout of 10 seconds\n",
    "\n",
    "print('Waiting for a connection...')\n",
    "try:\n",
    "    client_socket, client_address = server_socket.accept()\n",
    "except socket.timeout:\n",
    "    print('Connection request timed out.')\n",
    "else:\n",
    "    print('Connected to:', client_address)\n",
    "\n",
    "    while True:\n",
    "        data = client_socket.recv(1024)\n",
    "        if not data:\n",
    "            break\n",
    "        print('Received:', data)\n",
    "\n",
    "    client_socket.close()\n"
   ]
  },
  {
   "cell_type": "code",
   "execution_count": null,
   "id": "90dfcc72",
   "metadata": {},
   "outputs": [],
   "source": []
  }
 ],
 "metadata": {
  "kernelspec": {
   "display_name": "Python 3 (ipykernel)",
   "language": "python",
   "name": "python3"
  },
  "language_info": {
   "codemirror_mode": {
    "name": "ipython",
    "version": 3
   },
   "file_extension": ".py",
   "mimetype": "text/x-python",
   "name": "python",
   "nbconvert_exporter": "python",
   "pygments_lexer": "ipython3",
   "version": "3.9.13"
  }
 },
 "nbformat": 4,
 "nbformat_minor": 5
}
